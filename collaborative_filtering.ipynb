{
 "cells": [
  {
   "cell_type": "markdown",
   "metadata": {},
   "source": [
    "# Modélisation : colaborative filtering\n",
    "\n",
    "Principe : Proposer à un utilisateur A le même contenu qu'un utilisateur B sur la base d'intérêts similaires\n",
    "\n",
    "Etapes :\n",
    "\n",
    "Constituer la matrice des goûts utilisateur :\n",
    "- chaque ligne : représente un utilisateur\n",
    "- chaque colonne : représente un article\n",
    "\n",
    "Le feedback des utilisateurs sera implicite : nbre de fois qu'un utilisateur à cliqué sur un article"
   ]
  },
  {
   "cell_type": "code",
   "execution_count": 1,
   "metadata": {},
   "outputs": [],
   "source": [
    "import numpy as np\n",
    "import pandas as pd\n",
    "import pickle\n",
    "import matplotlib.pyplot as plt"
   ]
  },
  {
   "cell_type": "code",
   "execution_count": 2,
   "metadata": {},
   "outputs": [],
   "source": [
    "articles_df = pd.read_csv('data/articles_metadata.csv')\n",
    "articles_emb = pickle.load(open(\"data/articles_embeddings.pickle\",\"rb\"))"
   ]
  },
  {
   "cell_type": "code",
   "execution_count": null,
   "metadata": {},
   "outputs": [],
   "source": []
  }
 ],
 "metadata": {
  "kernelspec": {
   "display_name": "Python 3",
   "language": "python",
   "name": "python3"
  },
  "language_info": {
   "codemirror_mode": {
    "name": "ipython",
    "version": 3
   },
   "file_extension": ".py",
   "mimetype": "text/x-python",
   "name": "python",
   "nbconvert_exporter": "python",
   "pygments_lexer": "ipython3",
   "version": "3.8.5"
  }
 },
 "nbformat": 4,
 "nbformat_minor": 4
}
