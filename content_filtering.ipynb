{
 "cells": [
  {
   "cell_type": "markdown",
   "metadata": {},
   "source": [
    "# Modélisation : content filtering\n",
    "Nous allons utiliser ici en mesure de similarité le produit scalaire (parmi : Cosinus, dist euclidienne)\n",
    "\n",
    "Au niveau du contenu nous allons utiliser la catégorie de l'article en one hot vector concaténée avec le nombre de mots\n",
    "\n",
    "Pour un utilisateur, nous utiliserons la catégorie la plus cliquée ainsi que la longueur moyenne des articles"
   ]
  },
  {
   "cell_type": "code",
   "execution_count": 1,
   "metadata": {},
   "outputs": [],
   "source": [
    "import numpy as np\n",
    "import pandas as pd\n",
    "import pickle\n",
    "import matplotlib.pyplot as plt"
   ]
  },
  {
   "cell_type": "markdown",
   "metadata": {},
   "source": [
    "## Lecture des articles"
   ]
  },
  {
   "cell_type": "code",
   "execution_count": 13,
   "metadata": {},
   "outputs": [],
   "source": [
    "articles_df = pd.read_csv('data/articles_metadata.csv')\n",
    "articles_emb = pickle.load(open(\"data/articles_embeddings.pickle\",\"rb\"))\n"
   ]
  },
  {
   "cell_type": "markdown",
   "metadata": {},
   "source": [
    "## Recherche des catégories d'articles cliquées"
   ]
  },
  {
   "cell_type": "code",
   "execution_count": 3,
   "metadata": {},
   "outputs": [
    {
     "name": "stdout",
     "output_type": "stream",
     "text": [
      "Reading file index : 000\n",
      "Reading file index : 010\n",
      "Reading file index : 020\n",
      "Reading file index : 030\n",
      "Reading file index : 040\n",
      "Reading file index : 050\n",
      "Reading file index : 060\n",
      "Reading file index : 070\n",
      "Reading file index : 080\n",
      "Reading file index : 090\n",
      "Reading file index : 100\n",
      "Reading file index : 110\n",
      "Reading file index : 120\n",
      "Reading file index : 130\n",
      "Reading file index : 140\n",
      "Reading file index : 150\n",
      "Reading file index : 160\n",
      "Reading file index : 170\n",
      "Reading file index : 180\n",
      "Reading file index : 190\n",
      "Reading file index : 200\n",
      "Reading file index : 210\n",
      "Reading file index : 220\n",
      "Reading file index : 230\n",
      "Reading file index : 240\n",
      "Reading file index : 250\n",
      "Reading file index : 260\n",
      "Reading file index : 270\n",
      "Reading file index : 280\n",
      "Reading file index : 290\n",
      "Reading file index : 300\n",
      "Reading file index : 310\n",
      "Reading file index : 320\n",
      "Reading file index : 330\n",
      "Reading file index : 340\n",
      "Reading file index : 350\n",
      "Reading file index : 360\n",
      "Reading file index : 370\n",
      "Reading file index : 380\n"
     ]
    }
   ],
   "source": [
    "clicks_by_hour_df = pd.DataFrame()\n",
    "for i in range(385):\n",
    "    index = str(i).zfill(3)\n",
    "    if i%10 == 0:\n",
    "        print(\"Reading file index :\",index)\n",
    "    clicks_df = pd.read_csv('data/clicks/clicks_hour_'+index+'.csv')\n",
    "    clicks_by_hour_df = clicks_by_hour_df.append(clicks_df)"
   ]
  },
  {
   "cell_type": "code",
   "execution_count": 4,
   "metadata": {},
   "outputs": [
    {
     "data": {
      "text/html": [
       "<div>\n",
       "<style scoped>\n",
       "    .dataframe tbody tr th:only-of-type {\n",
       "        vertical-align: middle;\n",
       "    }\n",
       "\n",
       "    .dataframe tbody tr th {\n",
       "        vertical-align: top;\n",
       "    }\n",
       "\n",
       "    .dataframe thead th {\n",
       "        text-align: right;\n",
       "    }\n",
       "</style>\n",
       "<table border=\"1\" class=\"dataframe\">\n",
       "  <thead>\n",
       "    <tr style=\"text-align: right;\">\n",
       "      <th></th>\n",
       "      <th>user_id</th>\n",
       "      <th>session_id</th>\n",
       "      <th>session_start</th>\n",
       "      <th>session_size</th>\n",
       "      <th>click_article_id</th>\n",
       "      <th>click_timestamp</th>\n",
       "      <th>click_environment</th>\n",
       "      <th>click_deviceGroup</th>\n",
       "      <th>click_os</th>\n",
       "      <th>click_country</th>\n",
       "      <th>click_region</th>\n",
       "      <th>click_referrer_type</th>\n",
       "    </tr>\n",
       "  </thead>\n",
       "  <tbody>\n",
       "    <tr>\n",
       "      <th>0</th>\n",
       "      <td>0</td>\n",
       "      <td>1506825423271737</td>\n",
       "      <td>1506825423000</td>\n",
       "      <td>2</td>\n",
       "      <td>157541</td>\n",
       "      <td>1506826828020</td>\n",
       "      <td>4</td>\n",
       "      <td>3</td>\n",
       "      <td>20</td>\n",
       "      <td>1</td>\n",
       "      <td>20</td>\n",
       "      <td>2</td>\n",
       "    </tr>\n",
       "    <tr>\n",
       "      <th>1</th>\n",
       "      <td>0</td>\n",
       "      <td>1506825423271737</td>\n",
       "      <td>1506825423000</td>\n",
       "      <td>2</td>\n",
       "      <td>68866</td>\n",
       "      <td>1506826858020</td>\n",
       "      <td>4</td>\n",
       "      <td>3</td>\n",
       "      <td>20</td>\n",
       "      <td>1</td>\n",
       "      <td>20</td>\n",
       "      <td>2</td>\n",
       "    </tr>\n",
       "    <tr>\n",
       "      <th>2</th>\n",
       "      <td>1</td>\n",
       "      <td>1506825426267738</td>\n",
       "      <td>1506825426000</td>\n",
       "      <td>2</td>\n",
       "      <td>235840</td>\n",
       "      <td>1506827017951</td>\n",
       "      <td>4</td>\n",
       "      <td>1</td>\n",
       "      <td>17</td>\n",
       "      <td>1</td>\n",
       "      <td>16</td>\n",
       "      <td>2</td>\n",
       "    </tr>\n",
       "    <tr>\n",
       "      <th>3</th>\n",
       "      <td>1</td>\n",
       "      <td>1506825426267738</td>\n",
       "      <td>1506825426000</td>\n",
       "      <td>2</td>\n",
       "      <td>96663</td>\n",
       "      <td>1506827047951</td>\n",
       "      <td>4</td>\n",
       "      <td>1</td>\n",
       "      <td>17</td>\n",
       "      <td>1</td>\n",
       "      <td>16</td>\n",
       "      <td>2</td>\n",
       "    </tr>\n",
       "    <tr>\n",
       "      <th>4</th>\n",
       "      <td>2</td>\n",
       "      <td>1506825435299739</td>\n",
       "      <td>1506825435000</td>\n",
       "      <td>2</td>\n",
       "      <td>119592</td>\n",
       "      <td>1506827090575</td>\n",
       "      <td>4</td>\n",
       "      <td>1</td>\n",
       "      <td>17</td>\n",
       "      <td>1</td>\n",
       "      <td>24</td>\n",
       "      <td>2</td>\n",
       "    </tr>\n",
       "    <tr>\n",
       "      <th>...</th>\n",
       "      <td>...</td>\n",
       "      <td>...</td>\n",
       "      <td>...</td>\n",
       "      <td>...</td>\n",
       "      <td>...</td>\n",
       "      <td>...</td>\n",
       "      <td>...</td>\n",
       "      <td>...</td>\n",
       "      <td>...</td>\n",
       "      <td>...</td>\n",
       "      <td>...</td>\n",
       "      <td>...</td>\n",
       "    </tr>\n",
       "    <tr>\n",
       "      <th>2564</th>\n",
       "      <td>10051</td>\n",
       "      <td>1508211372158328</td>\n",
       "      <td>1508211372000</td>\n",
       "      <td>2</td>\n",
       "      <td>84911</td>\n",
       "      <td>1508211557302</td>\n",
       "      <td>4</td>\n",
       "      <td>3</td>\n",
       "      <td>2</td>\n",
       "      <td>1</td>\n",
       "      <td>25</td>\n",
       "      <td>1</td>\n",
       "    </tr>\n",
       "    <tr>\n",
       "      <th>2565</th>\n",
       "      <td>322896</td>\n",
       "      <td>1508211376302329</td>\n",
       "      <td>1508211376000</td>\n",
       "      <td>2</td>\n",
       "      <td>30760</td>\n",
       "      <td>1508211672520</td>\n",
       "      <td>4</td>\n",
       "      <td>1</td>\n",
       "      <td>17</td>\n",
       "      <td>1</td>\n",
       "      <td>25</td>\n",
       "      <td>2</td>\n",
       "    </tr>\n",
       "    <tr>\n",
       "      <th>2566</th>\n",
       "      <td>322896</td>\n",
       "      <td>1508211376302329</td>\n",
       "      <td>1508211376000</td>\n",
       "      <td>2</td>\n",
       "      <td>157507</td>\n",
       "      <td>1508211702520</td>\n",
       "      <td>4</td>\n",
       "      <td>1</td>\n",
       "      <td>17</td>\n",
       "      <td>1</td>\n",
       "      <td>25</td>\n",
       "      <td>2</td>\n",
       "    </tr>\n",
       "    <tr>\n",
       "      <th>2567</th>\n",
       "      <td>123718</td>\n",
       "      <td>1508211379189330</td>\n",
       "      <td>1508211379000</td>\n",
       "      <td>2</td>\n",
       "      <td>234481</td>\n",
       "      <td>1508211513583</td>\n",
       "      <td>4</td>\n",
       "      <td>3</td>\n",
       "      <td>2</td>\n",
       "      <td>1</td>\n",
       "      <td>25</td>\n",
       "      <td>2</td>\n",
       "    </tr>\n",
       "    <tr>\n",
       "      <th>2568</th>\n",
       "      <td>123718</td>\n",
       "      <td>1508211379189330</td>\n",
       "      <td>1508211379000</td>\n",
       "      <td>2</td>\n",
       "      <td>233578</td>\n",
       "      <td>1508211543583</td>\n",
       "      <td>4</td>\n",
       "      <td>3</td>\n",
       "      <td>2</td>\n",
       "      <td>1</td>\n",
       "      <td>25</td>\n",
       "      <td>2</td>\n",
       "    </tr>\n",
       "  </tbody>\n",
       "</table>\n",
       "<p>2988181 rows × 12 columns</p>\n",
       "</div>"
      ],
      "text/plain": [
       "     user_id        session_id  session_start session_size click_article_id  \\\n",
       "0          0  1506825423271737  1506825423000            2           157541   \n",
       "1          0  1506825423271737  1506825423000            2            68866   \n",
       "2          1  1506825426267738  1506825426000            2           235840   \n",
       "3          1  1506825426267738  1506825426000            2            96663   \n",
       "4          2  1506825435299739  1506825435000            2           119592   \n",
       "...      ...               ...            ...          ...              ...   \n",
       "2564   10051  1508211372158328  1508211372000            2            84911   \n",
       "2565  322896  1508211376302329  1508211376000            2            30760   \n",
       "2566  322896  1508211376302329  1508211376000            2           157507   \n",
       "2567  123718  1508211379189330  1508211379000            2           234481   \n",
       "2568  123718  1508211379189330  1508211379000            2           233578   \n",
       "\n",
       "     click_timestamp click_environment click_deviceGroup click_os  \\\n",
       "0      1506826828020                 4                 3       20   \n",
       "1      1506826858020                 4                 3       20   \n",
       "2      1506827017951                 4                 1       17   \n",
       "3      1506827047951                 4                 1       17   \n",
       "4      1506827090575                 4                 1       17   \n",
       "...              ...               ...               ...      ...   \n",
       "2564   1508211557302                 4                 3        2   \n",
       "2565   1508211672520                 4                 1       17   \n",
       "2566   1508211702520                 4                 1       17   \n",
       "2567   1508211513583                 4                 3        2   \n",
       "2568   1508211543583                 4                 3        2   \n",
       "\n",
       "     click_country click_region click_referrer_type  \n",
       "0                1           20                   2  \n",
       "1                1           20                   2  \n",
       "2                1           16                   2  \n",
       "3                1           16                   2  \n",
       "4                1           24                   2  \n",
       "...            ...          ...                 ...  \n",
       "2564             1           25                   1  \n",
       "2565             1           25                   2  \n",
       "2566             1           25                   2  \n",
       "2567             1           25                   2  \n",
       "2568             1           25                   2  \n",
       "\n",
       "[2988181 rows x 12 columns]"
      ]
     },
     "execution_count": 4,
     "metadata": {},
     "output_type": "execute_result"
    }
   ],
   "source": [
    "clicks_by_hour_df"
   ]
  },
  {
   "cell_type": "markdown",
   "metadata": {},
   "source": [
    "Nous récupérons les articles cliqués par l'utilisateur"
   ]
  },
  {
   "cell_type": "code",
   "execution_count": 5,
   "metadata": {},
   "outputs": [],
   "source": [
    "user_id = 0"
   ]
  },
  {
   "cell_type": "code",
   "execution_count": 6,
   "metadata": {},
   "outputs": [],
   "source": [
    "article_interest_df = clicks_by_hour_df[clicks_by_hour_df.user_id == user_id]['click_article_id']"
   ]
  },
  {
   "cell_type": "code",
   "execution_count": 7,
   "metadata": {},
   "outputs": [
    {
     "data": {
      "text/plain": [
       "0       157541\n",
       "1        68866\n",
       "7412     96755\n",
       "7413    313996\n",
       "4881    160158\n",
       "4882    233470\n",
       "1811     87224\n",
       "1812     87205\n",
       "Name: click_article_id, dtype: object"
      ]
     },
     "execution_count": 7,
     "metadata": {},
     "output_type": "execute_result"
    }
   ],
   "source": [
    "article_interest_df"
   ]
  },
  {
   "cell_type": "markdown",
   "metadata": {},
   "source": [
    "Recherchons les catégories des articles"
   ]
  },
  {
   "cell_type": "code",
   "execution_count": 11,
   "metadata": {},
   "outputs": [
    {
     "data": {
      "text/plain": [
       "68866     136\n",
       "87205     186\n",
       "87224     186\n",
       "96755     209\n",
       "157541    281\n",
       "160158    281\n",
       "233470    375\n",
       "313996    431\n",
       "Name: category_id, dtype: int64"
      ]
     },
     "execution_count": 11,
     "metadata": {},
     "output_type": "execute_result"
    }
   ],
   "source": [
    "articles_categories = articles_df[articles_df.article_id.isin(article_interest_df)].category_id\n",
    "articles_categories"
   ]
  },
  {
   "cell_type": "code",
   "execution_count": 17,
   "metadata": {},
   "outputs": [
    {
     "data": {
      "text/plain": [
       "281    2\n",
       "186    2\n",
       "375    1\n",
       "431    1\n",
       "209    1\n",
       "136    1\n",
       "Name: category_id, dtype: int64"
      ]
     },
     "execution_count": 17,
     "metadata": {},
     "output_type": "execute_result"
    }
   ],
   "source": [
    "category_freqs = articles_df[articles_df.article_id.isin(article_interest_df)].category_id.value_counts()\n",
    "category_freqs"
   ]
  },
  {
   "cell_type": "code",
   "execution_count": 85,
   "metadata": {},
   "outputs": [],
   "source": [
    "def get_recommendations(user_id,articles_df,clicks_by_hour_df,articles_emb,top_k = 5):\n",
    "    \n",
    "    article_interest_df = clicks_by_hour_df[clicks_by_hour_df.user_id == user_id]['click_article_id']\n",
    "    articles_categories = articles_df[articles_df.article_id.isin(article_interest_df)].category_id\n",
    "    category_freqs = articles_df[articles_df.article_id.isin(article_interest_df)].category_id.value_counts()\n",
    "    \n",
    "    cf = category_freqs.index.to_series()\n",
    "    cat=cf.to_numpy()[0]\n",
    "    print(\"Selected category :\",cat)\n",
    "    selected_article = articles_categories[articles_categories==cat].index[0]\n",
    "    exclude_list = articles_categories[articles_categories==cat].index.to_numpy()\n",
    "    print(\"Exclude list :\",exclude_list)\n",
    "    print(\"Selected article :\",selected_article)\n",
    "    current_emb = articles_emb[selected_article]\n",
    "    print(\"Article embedding :\",current_emb)\n",
    "    \n",
    "    similarities = np.dot(current_emb,np.transpose(articles_emb))\n",
    "    print(\"Similarities shape\",similarities.shape)\n",
    "    to_retrieve = (top_k + len(exclude_list))-1\n",
    "    selected = similarities.argsort()[-to_retrieve:]\n",
    "    print(\"Articles selectionnés :\",selected)\n",
    "    filtered = set(selected) - set(exclude_list)\n",
    "    print(\"Filtered :\",filtered)\n",
    "    \n",
    "    return list(filtered)\n",
    "    \n",
    "    \n",
    "        "
   ]
  },
  {
   "cell_type": "code",
   "execution_count": 86,
   "metadata": {},
   "outputs": [
    {
     "name": "stdout",
     "output_type": "stream",
     "text": [
      "Selected category : 281\n",
      "Exclude list : [157541 160158]\n",
      "Selected article : 157541\n",
      "Article embedding : [ 0.04563604 -0.9817215  -0.3488117   0.13537404  0.18759827  0.46154243\n",
      " -0.7924494   0.5103028   0.03752192 -0.04350547  0.7562447  -0.3990103\n",
      " -0.765851   -0.2971812   0.44985953 -0.31984672 -0.01483636 -0.19543175\n",
      " -0.68874836 -0.7412663   0.5747204  -0.18989867  0.27447984  0.44798225\n",
      " -0.48008433 -0.715874    0.6232814   0.41901016 -0.8594551   0.6883967\n",
      "  0.8074732   0.6078273   0.77360547 -0.8022254  -0.82356477 -0.17657441\n",
      "  0.5343014   0.37477484 -0.669281   -0.72143614 -0.07189102  0.10664697\n",
      "  0.87900984 -0.9698581  -0.7696766   0.5552143  -0.6911229  -0.17906854\n",
      " -0.04259193 -0.58978194 -0.04458507  0.1946762  -0.01661651 -0.6879604\n",
      "  0.37235388  0.7880901  -0.15220796  0.43662453  0.9619818   0.0172913\n",
      "  0.9440444   0.84787196 -0.52713937 -0.27290303 -0.2106504   0.41728926\n",
      "  0.82955945  0.60010344 -0.33098266  0.02484715  0.15784632 -0.32729748\n",
      "  0.6672566  -0.7081773   0.8226783  -0.23555934 -0.07111167 -0.35111088\n",
      "  0.6686807  -0.39010072 -0.5461707   0.16239075  0.6872202  -0.68789864\n",
      " -0.09511082 -0.8221937   0.5156274   0.60901415 -0.05206004 -0.24023317\n",
      "  0.40227646  0.40944323 -0.04664782  0.43596968  0.1524825   0.50826216\n",
      "  0.55190593  0.23836513  0.09500484 -0.3578642   0.09516154 -0.531597\n",
      " -0.1141995   0.2963015  -0.69657445  0.17560107 -0.0064306  -0.00808084\n",
      "  0.14211877  0.28694993 -0.55674213  0.7545799  -0.79376966  0.03784083\n",
      "  0.26076317 -0.8396257   0.40322092 -0.47777477 -0.6598468  -0.0167995\n",
      " -0.80697906  0.5007696   0.09482651  0.5266112  -0.39225248 -0.01827191\n",
      "  0.37146443  0.92674565 -0.7576498  -0.4716068   0.15914527  0.6101847\n",
      " -0.51943874  0.54446954  0.96936095  0.54908717  0.37983447  0.82432127\n",
      "  0.07541207  0.08324618 -0.87283874 -0.6328307   0.5862367  -0.36910588\n",
      "  0.3597377  -0.03663558 -0.6918579   0.5264456  -0.29247436 -0.85168666\n",
      "  0.94721735  0.14191037  0.17723066  0.8112367   0.08600391 -0.07571363\n",
      "  0.5884019   0.47814858  0.7719693  -0.579768    0.34111896 -0.54356766\n",
      "  0.8633626   0.74906707  0.8021872  -0.21835038  0.4034715   0.8115684\n",
      "  0.2578046   0.51477754  0.6121142  -0.40662196  0.35899976 -0.3212849\n",
      " -0.49302596  0.8729007  -0.28548276  0.12179164  0.6882988   0.06792951\n",
      " -0.26092154  0.17266254  0.06771306 -0.3932297   0.8656065   0.7571187\n",
      "  0.2471314  -0.37194794  0.05343708 -0.6303255  -0.6872117   0.8110101\n",
      " -0.0786029  -0.5347364   0.51361644  0.5816082   0.36749023  0.10669083\n",
      " -0.9705461  -0.10370009  0.49414912 -0.3669012   0.27652416  0.16927026\n",
      "  0.14391038 -0.23339112 -0.609301   -0.01105902  0.09955618  0.52906495\n",
      " -0.43666983 -0.882009   -0.24017774 -0.6052895  -0.44602868 -0.6331054\n",
      " -0.19180664  0.2915849  -0.93852025  0.4653721  -0.12431278  0.960148\n",
      "  0.17713192  0.45675763  0.78579265 -0.4142716  -0.30280837  0.83813685\n",
      "  0.9200363   0.43050638 -0.67770004 -0.82347655 -0.7333046  -0.5299069\n",
      " -0.3341475  -0.8972769   0.727085   -0.7569692   0.09259488  0.6958953\n",
      "  0.67025983  0.2990594  -0.8267971  -0.81206983  0.38240394 -0.08198348\n",
      " -0.802341   -0.4184863   0.1679776   0.27869353]\n",
      "Similarities shape (364047,)\n",
      "Articles selectionnés : [161687 162343 157519 156355 162369 157541]\n",
      "Filtered : {162369, 156355, 162343, 157519, 161687}\n",
      "[162369, 156355, 162343, 157519, 161687]\n"
     ]
    }
   ],
   "source": [
    "user_id = 0\n",
    "\n",
    "rec = get_recommendations(user_id,articles_df,clicks_by_hour_df,articles_emb, top_k=5)\n",
    "\n",
    "print(rec)"
   ]
  },
  {
   "cell_type": "code",
   "execution_count": null,
   "metadata": {},
   "outputs": [],
   "source": []
  }
 ],
 "metadata": {
  "kernelspec": {
   "display_name": "Python 3",
   "language": "python",
   "name": "python3"
  },
  "language_info": {
   "codemirror_mode": {
    "name": "ipython",
    "version": 3
   },
   "file_extension": ".py",
   "mimetype": "text/x-python",
   "name": "python",
   "nbconvert_exporter": "python",
   "pygments_lexer": "ipython3",
   "version": "3.8.5"
  }
 },
 "nbformat": 4,
 "nbformat_minor": 4
}
